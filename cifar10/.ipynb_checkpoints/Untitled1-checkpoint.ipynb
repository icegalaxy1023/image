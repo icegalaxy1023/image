{
 "cells": [
  {
   "cell_type": "code",
   "execution_count": null,
   "metadata": {
    "collapsed": true
   },
   "outputs": [],
   "source": [
    "# -*- coding: utf-8 -*-\n",
    "\"\"\"\n",
    "Created on Sat May 05 21:00:31 2018\n",
    "\n",
    "@author: icegalaxy\n",
    "\"\"\"\n",
    "\n",
    "import numpy as np\n",
    "from data_utils import get_CIFAR10_data\n",
    "import matplotlib.pyplot as plt\n",
    "from cnn import ThreeLayerConvNet\n",
    "from solver import Solver\n",
    "DIR = 'C:/Users/icegalaxy/Desktop/image/cifar10'\n",
    "data = get_CIFAR10_data(DIR)\n",
    "for k, v in data.iteritems():\n",
    "  print '%s: ' % k, v.shape\n",
    "\n",
    "#训练CIFAR-10模型\n",
    "model1 = ThreeLayerConvNet(weight_scale=0.001, hidden_dim=500, reg=0.001, filter_size = 3,use_batchnorm=True)\n",
    "model1.params=np.load(\"C:/Users/icegalaxy/Desktop/image/cifar10/model/model.npy\")\n",
    "print model1.params\n"
   ]
  }
 ],
 "metadata": {
  "kernelspec": {
   "display_name": "Python 2",
   "language": "python",
   "name": "python2"
  },
  "language_info": {
   "codemirror_mode": {
    "name": "ipython",
    "version": 2
   },
   "file_extension": ".py",
   "mimetype": "text/x-python",
   "name": "python",
   "nbconvert_exporter": "python",
   "pygments_lexer": "ipython2",
   "version": "2.7.14"
  }
 },
 "nbformat": 4,
 "nbformat_minor": 2
}
