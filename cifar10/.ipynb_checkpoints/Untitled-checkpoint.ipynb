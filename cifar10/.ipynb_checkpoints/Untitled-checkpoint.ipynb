{
 "cells": [
  {
   "cell_type": "code",
   "execution_count": null,
   "metadata": {
    "collapsed": true
   },
   "outputs": [],
   "source": [
    "# -*- coding: utf-8 -*-\n",
    "\"\"\"\n",
    "Created on Fri May 04 19:27:54 2018\n",
    "\n",
    "@author: icegalaxy\n",
    "\"\"\"\n",
    "import numpy as np\n",
    "from data_utils import get_CIFAR10_data\n",
    "import matplotlib.pyplot as plt\n",
    "from cnn import ThreeLayerConvNet\n",
    "from solver import Solver\n",
    "\n",
    "\n",
    "plt.rcParams['figure.figsize'] = (10.0, 8.0) # set default size of plots\n",
    "plt.rcParams['image.interpolation'] = 'nearest'\n",
    "plt.rcParams['image.cmap'] = 'gray'\n",
    "\n",
    "\n",
    "def rel_error(x, y):\n",
    "  \"\"\" 返回相对误差 \"\"\"\n",
    "  return np.max(np.abs(x - y) / (np.maximum(1e-8, np.abs(x) + np.abs(y))))\n",
    "\n",
    "# 加载 CIFAR10 数据.\n",
    "DIR = 'C:/Users/icegalaxy/Desktop/image/cifar10'\n",
    "data = get_CIFAR10_data(DIR)\n",
    "for k, v in data.iteritems():\n",
    "  print '%s: ' % k, v.shape\n",
    "\n",
    "#训练CIFAR-10模型\n",
    "model = ThreeLayerConvNet(weight_scale=0.001, hidden_dim=500, reg=0.001, filter_size = 3,use_batchnorm=True)\n",
    "np.save(\"C:/Users/icegalaxy/Desktop/image/cifar10/model/model.npy\",model.params)\n",
    "print model.params\n",
    "\n"
   ]
  }
 ],
 "metadata": {
  "kernelspec": {
   "display_name": "Python 2",
   "language": "python",
   "name": "python2"
  },
  "language_info": {
   "codemirror_mode": {
    "name": "ipython",
    "version": 2
   },
   "file_extension": ".py",
   "mimetype": "text/x-python",
   "name": "python",
   "nbconvert_exporter": "python",
   "pygments_lexer": "ipython2",
   "version": "2.7.14"
  }
 },
 "nbformat": 4,
 "nbformat_minor": 2
}
